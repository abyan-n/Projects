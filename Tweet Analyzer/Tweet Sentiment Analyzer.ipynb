{
 "cells": [
  {
   "cell_type": "code",
   "execution_count": 2,
   "metadata": {
    "scrolled": true
   },
   "outputs": [
    {
     "data": {
      "text/html": [
       "<div>\n",
       "<style scoped>\n",
       "    .dataframe tbody tr th:only-of-type {\n",
       "        vertical-align: middle;\n",
       "    }\n",
       "\n",
       "    .dataframe tbody tr th {\n",
       "        vertical-align: top;\n",
       "    }\n",
       "\n",
       "    .dataframe thead th {\n",
       "        text-align: right;\n",
       "    }\n",
       "</style>\n",
       "<table border=\"1\" class=\"dataframe\">\n",
       "  <thead>\n",
       "    <tr style=\"text-align: right;\">\n",
       "      <th></th>\n",
       "      <th>Headline</th>\n",
       "      <th>Label</th>\n",
       "    </tr>\n",
       "  </thead>\n",
       "  <tbody>\n",
       "    <tr>\n",
       "      <th>0</th>\n",
       "      <td>Says the Annies List political group supports ...</td>\n",
       "      <td>0</td>\n",
       "    </tr>\n",
       "    <tr>\n",
       "      <th>1</th>\n",
       "      <td>Health care reform legislation is likely to ma...</td>\n",
       "      <td>0</td>\n",
       "    </tr>\n",
       "    <tr>\n",
       "      <th>2</th>\n",
       "      <td>The Chicago Bears have had more starting quart...</td>\n",
       "      <td>1</td>\n",
       "    </tr>\n",
       "    <tr>\n",
       "      <th>3</th>\n",
       "      <td>When Mitt Romney was governor of Massachusetts...</td>\n",
       "      <td>0</td>\n",
       "    </tr>\n",
       "    <tr>\n",
       "      <th>4</th>\n",
       "      <td>McCain opposed a requirement that the governme...</td>\n",
       "      <td>1</td>\n",
       "    </tr>\n",
       "    <tr>\n",
       "      <th>...</th>\n",
       "      <td>...</td>\n",
       "      <td>...</td>\n",
       "    </tr>\n",
       "    <tr>\n",
       "      <th>4549</th>\n",
       "      <td>Says Barack Obama promised to halve the defici...</td>\n",
       "      <td>1</td>\n",
       "    </tr>\n",
       "    <tr>\n",
       "      <th>4550</th>\n",
       "      <td>I am the only senator who turned down the stat...</td>\n",
       "      <td>1</td>\n",
       "    </tr>\n",
       "    <tr>\n",
       "      <th>4551</th>\n",
       "      <td>There is no system to vet refugees from the Mi...</td>\n",
       "      <td>0</td>\n",
       "    </tr>\n",
       "    <tr>\n",
       "      <th>4552</th>\n",
       "      <td>I think its seven or eight of the California s...</td>\n",
       "      <td>0</td>\n",
       "    </tr>\n",
       "    <tr>\n",
       "      <th>4553</th>\n",
       "      <td>Says the governor is going around the state ta...</td>\n",
       "      <td>0</td>\n",
       "    </tr>\n",
       "  </tbody>\n",
       "</table>\n",
       "<p>4554 rows × 2 columns</p>\n",
       "</div>"
      ],
      "text/plain": [
       "                                               Headline  Label\n",
       "0     Says the Annies List political group supports ...      0\n",
       "1     Health care reform legislation is likely to ma...      0\n",
       "2     The Chicago Bears have had more starting quart...      1\n",
       "3     When Mitt Romney was governor of Massachusetts...      0\n",
       "4     McCain opposed a requirement that the governme...      1\n",
       "...                                                 ...    ...\n",
       "4549  Says Barack Obama promised to halve the defici...      1\n",
       "4550  I am the only senator who turned down the stat...      1\n",
       "4551  There is no system to vet refugees from the Mi...      0\n",
       "4552  I think its seven or eight of the California s...      0\n",
       "4553  Says the governor is going around the state ta...      0\n",
       "\n",
       "[4554 rows x 2 columns]"
      ]
     },
     "execution_count": 2,
     "metadata": {},
     "output_type": "execute_result"
    }
   ],
   "source": [
    "import pandas as pd\n",
    "data = pd.read_csv(\"https://raw.githubusercontent.com/yildirimcaglar/yildirimcaglar.github.io/master/ds3000/fake_news_data.csv\")\n",
    "data"
   ]
  },
  {
   "cell_type": "code",
   "execution_count": 3,
   "metadata": {},
   "outputs": [
    {
     "data": {
      "text/plain": [
       "0    2501\n",
       "1    2053\n",
       "Name: Label, dtype: int64"
      ]
     },
     "execution_count": 3,
     "metadata": {},
     "output_type": "execute_result"
    }
   ],
   "source": [
    "# here are the target value counts\n",
    "data[\"Label\"].value_counts()"
   ]
  },
  {
   "cell_type": "code",
   "execution_count": 4,
   "metadata": {},
   "outputs": [],
   "source": [
    "def sample_df_equally_by_group(df, column, n):\n",
    "    \n",
    "    g = df.groupby(column).sample(n)\n",
    "    \n",
    "    \n",
    "    return g"
   ]
  },
  {
   "cell_type": "code",
   "execution_count": 5,
   "metadata": {},
   "outputs": [],
   "source": [
    "final_data = sample_df_equally_by_group(df=data, column=\"Label\", n=2050)"
   ]
  },
  {
   "cell_type": "code",
   "execution_count": 6,
   "metadata": {},
   "outputs": [
    {
     "data": {
      "text/html": [
       "<div>\n",
       "<style scoped>\n",
       "    .dataframe tbody tr th:only-of-type {\n",
       "        vertical-align: middle;\n",
       "    }\n",
       "\n",
       "    .dataframe tbody tr th {\n",
       "        vertical-align: top;\n",
       "    }\n",
       "\n",
       "    .dataframe thead th {\n",
       "        text-align: right;\n",
       "    }\n",
       "</style>\n",
       "<table border=\"1\" class=\"dataframe\">\n",
       "  <thead>\n",
       "    <tr style=\"text-align: right;\">\n",
       "      <th></th>\n",
       "      <th>Headline</th>\n",
       "      <th>Label</th>\n",
       "    </tr>\n",
       "  </thead>\n",
       "  <tbody>\n",
       "    <tr>\n",
       "      <th>3079</th>\n",
       "      <td>The Colorado caucus system for selecting Repub...</td>\n",
       "      <td>0</td>\n",
       "    </tr>\n",
       "    <tr>\n",
       "      <th>971</th>\n",
       "      <td>Says that under City Council Member Randi Shad...</td>\n",
       "      <td>0</td>\n",
       "    </tr>\n",
       "    <tr>\n",
       "      <th>2633</th>\n",
       "      <td>George Allens flat tax plan would actually shr...</td>\n",
       "      <td>0</td>\n",
       "    </tr>\n",
       "    <tr>\n",
       "      <th>3418</th>\n",
       "      <td>The sequester has already lost 1.6 million jobs.</td>\n",
       "      <td>0</td>\n",
       "    </tr>\n",
       "    <tr>\n",
       "      <th>528</th>\n",
       "      <td>Says that if Texas, California and New York al...</td>\n",
       "      <td>0</td>\n",
       "    </tr>\n",
       "    <tr>\n",
       "      <th>...</th>\n",
       "      <td>...</td>\n",
       "      <td>...</td>\n",
       "    </tr>\n",
       "    <tr>\n",
       "      <th>3094</th>\n",
       "      <td>On oil drilling</td>\n",
       "      <td>1</td>\n",
       "    </tr>\n",
       "    <tr>\n",
       "      <th>4261</th>\n",
       "      <td>Sen. McCain was already turning his sights to ...</td>\n",
       "      <td>1</td>\n",
       "    </tr>\n",
       "    <tr>\n",
       "      <th>2580</th>\n",
       "      <td>The 2012 National Survey on Drug Use and Healt...</td>\n",
       "      <td>1</td>\n",
       "    </tr>\n",
       "    <tr>\n",
       "      <th>2999</th>\n",
       "      <td>I became a Republican sooner in my life than R...</td>\n",
       "      <td>1</td>\n",
       "    </tr>\n",
       "    <tr>\n",
       "      <th>4503</th>\n",
       "      <td>Theres almost 1 million Texans who are unemplo...</td>\n",
       "      <td>1</td>\n",
       "    </tr>\n",
       "  </tbody>\n",
       "</table>\n",
       "<p>4100 rows × 2 columns</p>\n",
       "</div>"
      ],
      "text/plain": [
       "                                               Headline  Label\n",
       "3079  The Colorado caucus system for selecting Repub...      0\n",
       "971   Says that under City Council Member Randi Shad...      0\n",
       "2633  George Allens flat tax plan would actually shr...      0\n",
       "3418   The sequester has already lost 1.6 million jobs.      0\n",
       "528   Says that if Texas, California and New York al...      0\n",
       "...                                                 ...    ...\n",
       "3094                                    On oil drilling      1\n",
       "4261  Sen. McCain was already turning his sights to ...      1\n",
       "2580  The 2012 National Survey on Drug Use and Healt...      1\n",
       "2999  I became a Republican sooner in my life than R...      1\n",
       "4503  Theres almost 1 million Texans who are unemplo...      1\n",
       "\n",
       "[4100 rows x 2 columns]"
      ]
     },
     "execution_count": 6,
     "metadata": {},
     "output_type": "execute_result"
    }
   ],
   "source": [
    "final_data"
   ]
  },
  {
   "cell_type": "markdown",
   "metadata": {},
   "source": [
    "Here are the final counts in the sampled dataset:"
   ]
  },
  {
   "cell_type": "code",
   "execution_count": 7,
   "metadata": {},
   "outputs": [
    {
     "data": {
      "text/plain": [
       "0    2050\n",
       "1    2050\n",
       "Name: Label, dtype: int64"
      ]
     },
     "execution_count": 7,
     "metadata": {},
     "output_type": "execute_result"
    }
   ],
   "source": [
    "final_data[\"Label\"].value_counts()"
   ]
  },
  {
   "cell_type": "code",
   "execution_count": 8,
   "metadata": {},
   "outputs": [],
   "source": [
    "import stylecloud\n",
    "\n",
    "true_df = final_data[final_data['Label'] == 0]\n",
    "\n",
    "tr_tx = true_df[\"Headline\"].values\n",
    "\n",
    "tr_f = ''.join(tr_tx)\n",
    "\n",
    "false_df = final_data[final_data['Label'] == 1]\n",
    "\n",
    "fa_tx = true_df[\"Headline\"].values\n",
    "\n",
    "fa_f = ''.join(fa_tx)\n",
    "\n",
    "\n",
    "true_sc = stylecloud.gen_stylecloud(text=tr_f,\n",
    "                          output_name=\"vis_true_headlines.png\")\n",
    "\n",
    "\n",
    "\n",
    "false_sc = stylecloud.gen_stylecloud(text=fa_f,\n",
    "                          output_name=\"vis_false_headlines.png\")"
   ]
  },
  {
   "cell_type": "markdown",
   "metadata": {},
   "source": [
    "FALSE Cloud\n",
    "\n",
    "<img src=\"https://i.ibb.co/kgbRKvh/vis-false-headlines.png\" alt=\"vis-false-headlines\" width=300>\n"
   ]
  },
  {
   "cell_type": "markdown",
   "metadata": {},
   "source": [
    "TRUE Cloud\n",
    "\n",
    "<img src=\"https://i.ibb.co/3rX79N7/vis-true-headlines.png\" alt=\"vis-false-headlines\" width=300>\n"
   ]
  },
  {
   "cell_type": "code",
   "execution_count": 9,
   "metadata": {},
   "outputs": [],
   "source": [
    "def split_data(df, feature_column, target_column):\n",
    "    from sklearn.model_selection import train_test_split\n",
    "    \n",
    "    features = df[feature_column]\n",
    "    target = df[target_column]\n",
    "    \n",
    "    return train_test_split(features, target, random_state=3000)\n",
    "    "
   ]
  },
  {
   "cell_type": "code",
   "execution_count": 10,
   "metadata": {},
   "outputs": [],
   "source": [
    "X_train, X_test, y_train, y_test = split_data(df=final_data, \n",
    "                                              feature_column=\"Headline\", \n",
    "                                              target_column=\"Label\")"
   ]
  },
  {
   "cell_type": "code",
   "execution_count": 11,
   "metadata": {},
   "outputs": [
    {
     "data": {
      "text/plain": [
       "(3075,)"
      ]
     },
     "execution_count": 11,
     "metadata": {},
     "output_type": "execute_result"
    }
   ],
   "source": [
    "X_train.shape"
   ]
  },
  {
   "cell_type": "code",
   "execution_count": 12,
   "metadata": {},
   "outputs": [
    {
     "data": {
      "text/plain": [
       "(1025,)"
      ]
     },
     "execution_count": 12,
     "metadata": {},
     "output_type": "execute_result"
    }
   ],
   "source": [
    "X_test.shape"
   ]
  },
  {
   "cell_type": "code",
   "execution_count": 57,
   "metadata": {},
   "outputs": [],
   "source": [
    "def text_vectorizer(train_set, test_set, vectorizer):\n",
    "    from sklearn.feature_extraction.text import CountVectorizer\n",
    "    from sklearn.feature_extraction.text import TfidfVectorizer\n",
    "    \n",
    "    if vectorizer == \"count\":\n",
    "        vect = CountVectorizer().fit(train_set)\n",
    "\n",
    "        X_train_vectorized = vect.transform(train_set)\n",
    "        X_test_vectorized = vect.transform(test_set)\n",
    "        \n",
    "    else:\n",
    "        \n",
    "        vect = TfidfVectorizer().fit(X_train)\n",
    "\n",
    "        X_train_vectorized = vect.transform(train_set)\n",
    "        X_test_vectorized = vect.transform(test_set)\n",
    "        \n",
    "    return (X_train_vectorized, X_test_vectorized)"
   ]
  },
  {
   "cell_type": "code",
   "execution_count": 58,
   "metadata": {},
   "outputs": [],
   "source": [
    "X_train_vectorized, X_test_vectorized = text_vectorizer(train_set=X_train, \n",
    "                                                        test_set=X_test, \n",
    "                                                        vectorizer = \"tfidf\")"
   ]
  },
  {
   "cell_type": "code",
   "execution_count": 59,
   "metadata": {},
   "outputs": [
    {
     "data": {
      "text/plain": [
       "(3075, 6892)"
      ]
     },
     "execution_count": 59,
     "metadata": {},
     "output_type": "execute_result"
    }
   ],
   "source": [
    "X_train_vectorized.toarray().shape"
   ]
  },
  {
   "cell_type": "code",
   "execution_count": 60,
   "metadata": {},
   "outputs": [
    {
     "data": {
      "text/plain": [
       "(1025, 6892)"
      ]
     },
     "execution_count": 60,
     "metadata": {},
     "output_type": "execute_result"
    }
   ],
   "source": [
    "X_test_vectorized.toarray().shape"
   ]
  },
  {
   "cell_type": "code",
   "execution_count": 61,
   "metadata": {},
   "outputs": [
    {
     "name": "stdout",
     "output_type": "stream",
     "text": [
      "Logistic Regression: \n",
      "\tR-squared value for training set: 0.8504065040650407\n",
      "\tR-squared value for testing set: 0.6224390243902439\n",
      "\n",
      "Multinomial Naive Bayes: \n",
      "\tR-squared value for training set: 0.8819512195121951\n",
      "\tR-squared value for testing set: 0.6117073170731707\n",
      "\n",
      "Decision Tree: \n",
      "\tR-squared value for training set: 0.9996747967479674\n",
      "\tR-squared value for testing set: 0.5521951219512196\n",
      "\n"
     ]
    }
   ],
   "source": [
    "from sklearn.naive_bayes import MultinomialNB\n",
    "from sklearn.linear_model import LogisticRegression\n",
    "from sklearn.tree import DecisionTreeClassifier\n",
    "from sklearn.metrics import r2_score\n",
    "from sklearn.metrics import mean_squared_error\n",
    "\n",
    "estimators = {\n",
    "    'Logistic Regression': LogisticRegression(),\n",
    "    'Multinomial Naive Bayes': MultinomialNB(),\n",
    "    'Decision Tree': DecisionTreeClassifier()}\n",
    "\n",
    "for estimator_name, estimator_object in estimators.items():\n",
    "    \n",
    "        \n",
    "        model = estimator_object.fit(X=X_train_vectorized, y=y_train)\n",
    "        \n",
    "    \n",
    "        print(estimator_name + \": \\n\\t\" + \n",
    "              f'R-squared value for training set: {model.score(X_train_vectorized, y_train)}' + \"\\n\\t\" +\n",
    "             f'R-squared value for testing set: {model.score(X_test_vectorized, y_test)}' + \"\\n\")\n",
    "\n"
   ]
  },
  {
   "cell_type": "code",
   "execution_count": 62,
   "metadata": {},
   "outputs": [
    {
     "name": "stdout",
     "output_type": "stream",
     "text": [
      "Classification accuracy on training set:  0.7778861788617886\n",
      "Classification accuracy on testing set:  0.6068292682926829\n"
     ]
    }
   ],
   "source": [
    "from sklearn.feature_extraction.text import ENGLISH_STOP_WORDS\n",
    "from sklearn.feature_extraction.text import TfidfVectorizer\n",
    "from sklearn.linear_model import LogisticRegression\n",
    "from sklearn.metrics import r2_score\n",
    "\n",
    "\n",
    "\n",
    "vect = TfidfVectorizer(min_df=5, ngram_range=(1,2), stop_words = \"english\").fit(X_train)\n",
    "\n",
    "\n",
    "X_train_vectorized = vect.transform(X_train)\n",
    "X_test_vectorized = vect.transform(X_test)\n",
    "\n",
    "model = LogisticRegression().fit(X=X_train_vectorized, y=y_train)\n",
    "\n",
    "print(\"Classification accuracy on training set: \",model.score(X_train_vectorized, y_train))\n",
    "      \n",
    "print(\"Classification accuracy on testing set: \",model.score(X_test_vectorized, y_test))\n"
   ]
  },
  {
   "cell_type": "code",
   "execution_count": 91,
   "metadata": {},
   "outputs": [],
   "source": [
    "def headline_checker(headline):\n",
    "    \n",
    "    headline_features = vect.transform(headline)\n",
    "    \n",
    "    sentiment = model.predict(headline_features)\n",
    "    \n",
    "    p_list = model.predict_proba(headline_features)\n",
    "    \n",
    "    if sentiment == 1:\n",
    "        print(\"Model classification: Real News\\n Probability: %.2f\" % (p_list[0][1]))\n",
    "    else:\n",
    "        print(\"Model classification: Fake News\\n Probability: %.2f\" % (p_list[0][0]))\n",
    "    \n",
    "   "
   ]
  },
  {
   "cell_type": "code",
   "execution_count": 92,
   "metadata": {},
   "outputs": [
    {
     "name": "stdout",
     "output_type": "stream",
     "text": [
      "Model classification: Real News\n",
      " Probability: 0.76\n"
     ]
    }
   ],
   "source": [
    "headline_checker([\"The State adds new vaccine requirement for senate members\"])"
   ]
  },
  {
   "cell_type": "code",
   "execution_count": 93,
   "metadata": {},
   "outputs": [
    {
     "name": "stdout",
     "output_type": "stream",
     "text": [
      "Model classification: Fake News\n",
      " Probability: 0.79\n"
     ]
    }
   ],
   "source": [
    "headline_checker([\"Wisconsin Governer says he will never campaign again\"])"
   ]
  }
 ],
 "metadata": {
  "kernelspec": {
   "display_name": "Python 3",
   "language": "python",
   "name": "python3"
  },
  "language_info": {
   "codemirror_mode": {
    "name": "ipython",
    "version": 3
   },
   "file_extension": ".py",
   "mimetype": "text/x-python",
   "name": "python",
   "nbconvert_exporter": "python",
   "pygments_lexer": "ipython3",
   "version": "3.8.8"
  }
 },
 "nbformat": 4,
 "nbformat_minor": 4
}
